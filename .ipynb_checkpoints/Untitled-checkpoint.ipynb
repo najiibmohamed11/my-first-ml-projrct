{
 "cells": [
  {
   "cell_type": "code",
   "execution_count": 1,
   "id": "02761e2c-1561-48ba-90a3-31add04ff446",
   "metadata": {},
   "outputs": [
    {
     "name": "stdout",
     "output_type": "stream",
     "text": [
      "hellow world\n"
     ]
    }
   ],
   "source": [
    "print(\"hellow world\")"
   ]
  },
  {
   "cell_type": "markdown",
   "id": "bf1bbc25-0f88-43ee-85a3-4e7af2d1ae24",
   "metadata": {},
   "source": [
    "this is summ cell"
   ]
  },
  {
   "cell_type": "code",
   "execution_count": 2,
   "id": "897d42e3-e54c-477d-b4f0-c23e931ef9b7",
   "metadata": {},
   "outputs": [
    {
     "name": "stdout",
     "output_type": "stream",
     "text": [
      "5\n"
     ]
    }
   ],
   "source": [
    "print(3+2)"
   ]
  },
  {
   "cell_type": "code",
   "execution_count": 4,
   "id": "7d92e485-25c3-422d-9dfe-b43995a97eb5",
   "metadata": {},
   "outputs": [],
   "source": [
    "import pandas as pd\n",
    "import numpy as np\n",
    "import sklearn as sk \n",
    "import matplotlib.pyplot as plt"
   ]
  },
  {
   "cell_type": "code",
   "execution_count": null,
   "id": "7aedce3c-f0b3-4dfb-965a-8ead3fdefb22",
   "metadata": {},
   "outputs": [],
   "source": []
  }
 ],
 "metadata": {
  "kernelspec": {
   "display_name": "Python 3 (ipykernel)",
   "language": "python",
   "name": "python3"
  },
  "language_info": {
   "codemirror_mode": {
    "name": "ipython",
    "version": 3
   },
   "file_extension": ".py",
   "mimetype": "text/x-python",
   "name": "python",
   "nbconvert_exporter": "python",
   "pygments_lexer": "ipython3",
   "version": "3.12.3"
  }
 },
 "nbformat": 4,
 "nbformat_minor": 5
}
